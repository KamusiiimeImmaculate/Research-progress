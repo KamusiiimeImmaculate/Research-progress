{
 "cells": [
  {
   "cell_type": "markdown",
   "id": "29d77042",
   "metadata": {},
   "source": [
    "### Project outline\n",
    "1. Introduction\n",
    "2. Project motivation\n",
    "3. Install the necessary libraries\n",
    "4. Identify the website of interest, acquire the necessary info\n",
    "5. Structure the data & EDA\n",
    "6. System automation\n"
   ]
  },
  {
   "cell_type": "markdown",
   "id": "16168f09",
   "metadata": {
    "papermill": {
     "duration": 0.013525,
     "end_time": "2022-01-22T14:04:17.083733",
     "exception": false,
     "start_time": "2022-01-22T14:04:17.070208",
     "status": "completed"
    },
    "tags": []
   },
   "source": [
    "#### **1. Introduction**\n",
    "\n",
    "**Python web scraping** allows you to collect and parse data from websites programmatically.\n",
    "\n",
    "**Necessary libraries** used to fetch and manipulate HTML content effortlessly;\n",
    "1. urllib\n",
    "2. Beautiful Soup \n",
    "3. MechanicalSoup\n",
    "\n",
    "It is the automated procedure of extracting the large amount of data from websites. \n",
    "The data available on the websites which is unstructured can be converted to structured data using Web Scrapping.\n",
    "\n",
    "**Ways to scrape websites**\n",
    "1. Online Services\n",
    "2. APIs\n",
    "3. writing your own code, etc.\n",
    "\n",
    "**Purpose**\n",
    "\n",
    "To automate the data collecting process and also to be aware about the sudden price changes of certain commodities through email.\n",
    "\n",
    "Alternatively, get notified instantly of some products which don't stay in stock for a long time such as PS5."
   ]
  },
  {
   "cell_type": "markdown",
   "id": "b19e060b",
   "metadata": {
    "papermill": {
     "duration": 0.013396,
     "end_time": "2022-01-22T14:04:17.110939",
     "exception": false,
     "start_time": "2022-01-22T14:04:17.097543",
     "status": "completed"
    },
    "tags": []
   },
   "source": [
    "### **2. Motivation and future plan**\n",
    "\n",
    "A friend wanted to do the following project on PS5 but it is not available online atleast not on Amazon India. So main goal was to constantly keep checking availability of PS5 and the moment it gets available order it but since there is no product item named PS5 on amazon, she had to go with ps4 disc.\n",
    "\n",
    "The basics remain the same with little tweak in code we would be able to use this as PS5 scrapper!\n"
   ]
  },
  {
   "cell_type": "markdown",
   "id": "828dbf2b",
   "metadata": {},
   "source": [
    "### **3. Install the necessary libraries**\n",
    "\n",
    "1. **BeautifulSoup**\n",
    "\n",
    "Used for web scraping by parsing HTML and XML documents.\n",
    "Helps extract data from web pages, eg. Extracting headlines from a news website.\n",
    "\n",
    "2. **Requests**\n",
    "\n",
    "Used to send HTTP requests to web pages and fetch data.\n",
    "Works well with ***BeautifulSoup for web scraping***, eg. Downloading a webpage’s HTML content."
   ]
  },
  {
   "cell_type": "code",
   "execution_count": 16,
   "id": "48eb956f",
   "metadata": {},
   "outputs": [
    {
     "name": "stdout",
     "output_type": "stream",
     "text": [
      "Collecting BeautifulSoup\n",
      "  Using cached BeautifulSoup-3.2.2.tar.gz (32 kB)\n",
      "  Preparing metadata (setup.py): started\n",
      "  Preparing metadata (setup.py): finished with status 'error'\n"
     ]
    },
    {
     "name": "stderr",
     "output_type": "stream",
     "text": [
      "  error: subprocess-exited-with-error\n",
      "  \n",
      "  × python setup.py egg_info did not run successfully.\n",
      "  │ exit code: 1\n",
      "  ╰─> [7 lines of output]\n",
      "      Traceback (most recent call last):\n",
      "        File \"<string>\", line 2, in <module>\n",
      "        File \"<pip-setuptools-caller>\", line 34, in <module>\n",
      "        File \"C:\\Users\\EMMACULATE\\AppData\\Local\\Temp\\pip-install-i519x4c3\\beautifulsoup_b6624eef4a18421b93e61eecdbfe474c\\setup.py\", line 3\n",
      "          \"You're trying to run a very old release of Beautiful Soup under Python 3. This will not work.\"<>\"Please use Beautiful Soup 4, available through the pip package 'beautifulsoup4'.\"\n",
      "                                                                                                         ^^\n",
      "      SyntaxError: invalid syntax\n",
      "      [end of output]\n",
      "  \n",
      "  note: This error originates from a subprocess, and is likely not a problem with pip.\n",
      "error: metadata-generation-failed\n",
      "\n",
      "× Encountered error while generating package metadata.\n",
      "╰─> See above for output.\n",
      "\n",
      "note: This is an issue with the package mentioned above, not pip.\n",
      "hint: See above for details.\n"
     ]
    },
    {
     "name": "stdout",
     "output_type": "stream",
     "text": [
      "Requirement already satisfied: requests in c:\\users\\emmaculate\\anaconda3\\lib\\site-packages (2.32.3)\n",
      "Requirement already satisfied: charset-normalizer<4,>=2 in c:\\users\\emmaculate\\anaconda3\\lib\\site-packages (from requests) (3.3.2)\n",
      "Requirement already satisfied: idna<4,>=2.5 in c:\\users\\emmaculate\\anaconda3\\lib\\site-packages (from requests) (3.7)\n",
      "Requirement already satisfied: urllib3<3,>=1.21.1 in c:\\users\\emmaculate\\anaconda3\\lib\\site-packages (from requests) (2.2.3)\n",
      "Requirement already satisfied: certifi>=2017.4.17 in c:\\users\\emmaculate\\anaconda3\\lib\\site-packages (from requests) (2024.8.30)\n"
     ]
    }
   ],
   "source": [
    "#First install the libraries\n",
    "!pip install BeautifulSoup \n",
    "!pip install requests"
   ]
  },
  {
   "cell_type": "code",
   "execution_count": 17,
   "id": "eba8404a",
   "metadata": {
    "execution": {
     "iopub.execute_input": "2022-01-22T14:04:17.143277Z",
     "iopub.status.busy": "2022-01-22T14:04:17.142069Z",
     "iopub.status.idle": "2022-01-22T14:04:17.465508Z",
     "shell.execute_reply": "2022-01-22T14:04:17.464755Z",
     "shell.execute_reply.started": "2022-01-22T14:02:59.298521Z"
    },
    "papermill": {
     "duration": 0.340858,
     "end_time": "2022-01-22T14:04:17.465683",
     "exception": false,
     "start_time": "2022-01-22T14:04:17.124825",
     "status": "completed"
    },
    "tags": []
   },
   "outputs": [],
   "source": [
    "# import libraries \n",
    "\n",
    "from bs4 import BeautifulSoup\n",
    "import requests\n",
    "import time\n",
    "import datetime\n",
    "\n",
    "import smtplib"
   ]
  },
  {
   "cell_type": "code",
   "execution_count": 18,
   "id": "3b87019d",
   "metadata": {},
   "outputs": [
    {
     "name": "stdout",
     "output_type": "stream",
     "text": [
      "Current Time: 2025-02-06 11:43:18.422345\n"
     ]
    }
   ],
   "source": [
    "current_time = datetime.datetime.now()\n",
    "print(\"Current Time:\", current_time)"
   ]
  },
  {
   "cell_type": "markdown",
   "id": "448f7d1b",
   "metadata": {},
   "source": [
    "#### **4. Amazon, source PS4**"
   ]
  },
  {
   "cell_type": "code",
   "execution_count": 6,
   "id": "85f8def4",
   "metadata": {
    "execution": {
     "iopub.execute_input": "2022-01-22T14:04:17.499731Z",
     "iopub.status.busy": "2022-01-22T14:04:17.498646Z",
     "iopub.status.idle": "2022-01-22T14:04:17.500978Z",
     "shell.execute_reply": "2022-01-22T14:04:17.501493Z",
     "shell.execute_reply.started": "2022-01-22T14:02:59.606709Z"
    },
    "papermill": {
     "duration": 0.02183,
     "end_time": "2022-01-22T14:04:17.501671",
     "exception": false,
     "start_time": "2022-01-22T14:04:17.479841",
     "status": "completed"
    },
    "tags": []
   },
   "outputs": [],
   "source": [
    "#connecting to a website\n",
    "\n",
    "url = 'https://www.amazon.in/PS4-God-of-War/dp/B07YQ73Y8T/ref=sr_1_2?keywords=ps4%2Bgame&qid=1642854585&sr=8-2'\n",
    "header = {\"User-Agent\": \"Mozilla/5.0 (Macintosh; Intel Mac OS X 10_15_7) AppleWebKit/537.36 (KHTML, like Gecko) Chrome/97.0.4692.99 Safari/537.36\"}"
   ]
  },
  {
   "cell_type": "markdown",
   "id": "6c095102",
   "metadata": {},
   "source": [
    "### **5. Structure and explore the data**"
   ]
  },
  {
   "cell_type": "code",
   "execution_count": 7,
   "id": "2038fd7b",
   "metadata": {
    "execution": {
     "iopub.execute_input": "2022-01-22T14:04:17.560902Z",
     "iopub.status.busy": "2022-01-22T14:04:17.559831Z",
     "iopub.status.idle": "2022-01-22T14:04:20.294032Z",
     "shell.execute_reply": "2022-01-22T14:04:20.294601Z",
     "shell.execute_reply.started": "2022-01-22T14:02:59.612664Z"
    },
    "papermill": {
     "duration": 2.751734,
     "end_time": "2022-01-22T14:04:20.294787",
     "exception": false,
     "start_time": "2022-01-22T14:04:17.543053",
     "status": "completed"
    },
    "tags": []
   },
   "outputs": [
    {
     "name": "stdout",
     "output_type": "stream",
     "text": [
      "\n",
      "             PS4 GOW HITS\n",
      "            \n",
      "\n",
      "                             ₹899.00\n",
      "                            \n"
     ]
    }
   ],
   "source": [
    "#getting the data from the website\n",
    "page = requests.get(url, headers=header)\n",
    "\n",
    "s1 = BeautifulSoup(page.content,'html.parser')\n",
    "s2 = BeautifulSoup(s1.prettify(),'html.parser')\n",
    "\n",
    "title = s2.find('span','a-size-large product-title-word-break').get_text()\n",
    "print(title)\n",
    "price = s2.find('span', 'a-offscreen').get_text()\n",
    "print(price)"
   ]
  },
  {
   "cell_type": "code",
   "execution_count": 8,
   "id": "729bf2f7",
   "metadata": {
    "execution": {
     "iopub.execute_input": "2022-01-22T14:04:20.329970Z",
     "iopub.status.busy": "2022-01-22T14:04:20.329173Z",
     "iopub.status.idle": "2022-01-22T14:04:20.332498Z",
     "shell.execute_reply": "2022-01-22T14:04:20.333196Z",
     "shell.execute_reply.started": "2022-01-22T14:03:02.722359Z"
    },
    "papermill": {
     "duration": 0.024039,
     "end_time": "2022-01-22T14:04:20.333412",
     "exception": false,
     "start_time": "2022-01-22T14:04:20.309373",
     "status": "completed"
    },
    "tags": []
   },
   "outputs": [
    {
     "name": "stdout",
     "output_type": "stream",
     "text": [
      "PS4 GOW HITS 899.00\n"
     ]
    }
   ],
   "source": [
    "#removing the rupee sign from the price\n",
    "\n",
    "price = price.strip()[1:]\n",
    "title = title.strip()\n",
    "\n",
    "print(title,price)"
   ]
  },
  {
   "cell_type": "code",
   "execution_count": 9,
   "id": "9c5387d3",
   "metadata": {
    "execution": {
     "iopub.execute_input": "2022-01-22T14:04:20.369572Z",
     "iopub.status.busy": "2022-01-22T14:04:20.368824Z",
     "iopub.status.idle": "2022-01-22T14:04:20.372827Z",
     "shell.execute_reply": "2022-01-22T14:04:20.372261Z",
     "shell.execute_reply.started": "2022-01-22T14:03:02.731465Z"
    },
    "papermill": {
     "duration": 0.023835,
     "end_time": "2022-01-22T14:04:20.372972",
     "exception": false,
     "start_time": "2022-01-22T14:04:20.349137",
     "status": "completed"
    },
    "tags": []
   },
   "outputs": [
    {
     "name": "stdout",
     "output_type": "stream",
     "text": [
      "2025-02-06\n"
     ]
    }
   ],
   "source": [
    "today = datetime.date.today()\n",
    "print(today)"
   ]
  },
  {
   "cell_type": "markdown",
   "id": "d34ee00e",
   "metadata": {},
   "source": [
    "**saving the data from the amazon website into a csv file**"
   ]
  },
  {
   "cell_type": "code",
   "execution_count": null,
   "id": "e67f07d2",
   "metadata": {
    "execution": {
     "iopub.execute_input": "2022-01-22T14:04:20.409986Z",
     "iopub.status.busy": "2022-01-22T14:04:20.409017Z",
     "iopub.status.idle": "2022-01-22T14:04:20.411719Z",
     "shell.execute_reply": "2022-01-22T14:04:20.411199Z",
     "shell.execute_reply.started": "2022-01-22T14:03:02.742874Z"
    },
    "papermill": {
     "duration": 0.023909,
     "end_time": "2022-01-22T14:04:20.411873",
     "exception": false,
     "start_time": "2022-01-22T14:04:20.387964",
     "status": "completed"
    },
    "tags": []
   },
   "outputs": [],
   "source": [
    "import csv \n",
    "\n",
    "h1 = ['Title','Price','Date']\n",
    "data = [title,price,today]\n",
    "\n",
    "with open('Scrapper_file.csv','w',newline='',encoding='UTF8') as f:\n",
    "    writer = csv.writer(f)\n",
    "    writer.writerow(h1)\n",
    "    writer.writerow(data)"
   ]
  },
  {
   "cell_type": "code",
   "execution_count": 11,
   "id": "5d4f4322",
   "metadata": {
    "execution": {
     "iopub.execute_input": "2022-01-22T14:04:20.446062Z",
     "iopub.status.busy": "2022-01-22T14:04:20.445228Z",
     "iopub.status.idle": "2022-01-22T14:04:20.447946Z",
     "shell.execute_reply": "2022-01-22T14:04:20.447421Z",
     "shell.execute_reply.started": "2022-01-22T14:03:02.752303Z"
    },
    "papermill": {
     "duration": 0.02137,
     "end_time": "2022-01-22T14:04:20.448086",
     "exception": false,
     "start_time": "2022-01-22T14:04:20.426716",
     "status": "completed"
    },
    "tags": []
   },
   "outputs": [
    {
     "data": {
      "text/html": [
       "<div>\n",
       "<style scoped>\n",
       "    .dataframe tbody tr th:only-of-type {\n",
       "        vertical-align: middle;\n",
       "    }\n",
       "\n",
       "    .dataframe tbody tr th {\n",
       "        vertical-align: top;\n",
       "    }\n",
       "\n",
       "    .dataframe thead th {\n",
       "        text-align: right;\n",
       "    }\n",
       "</style>\n",
       "<table border=\"1\" class=\"dataframe\">\n",
       "  <thead>\n",
       "    <tr style=\"text-align: right;\">\n",
       "      <th></th>\n",
       "      <th>Title</th>\n",
       "      <th>Price</th>\n",
       "      <th>Date</th>\n",
       "    </tr>\n",
       "  </thead>\n",
       "  <tbody>\n",
       "    <tr>\n",
       "      <th>0</th>\n",
       "      <td>PS4 GOW HITS</td>\n",
       "      <td>899.0</td>\n",
       "      <td>2025-02-06</td>\n",
       "    </tr>\n",
       "  </tbody>\n",
       "</table>\n",
       "</div>"
      ],
      "text/plain": [
       "          Title  Price        Date\n",
       "0  PS4 GOW HITS  899.0  2025-02-06"
      ]
     },
     "execution_count": 11,
     "metadata": {},
     "output_type": "execute_result"
    }
   ],
   "source": [
    "import pandas as pd\n",
    "\n",
    "#df = pd.read_csv('/Users/digi/Desktop/Data-Analytics/web-scrapper/Scrapper_file.csv')\n",
    "#df = pd.read_csv(\"D:/UCU/Easter semester 2025/Data mining modeling and analytics 2025/Practicals/Mining Websites/Scrapper_file.csv\")\n",
    "df = pd.read_csv(\"Scrapper_file.csv\")\n",
    "df.head(10)"
   ]
  },
  {
   "cell_type": "code",
   "execution_count": 12,
   "id": "bd75af73",
   "metadata": {
    "execution": {
     "iopub.execute_input": "2022-01-22T14:04:20.483630Z",
     "iopub.status.busy": "2022-01-22T14:04:20.482917Z",
     "iopub.status.idle": "2022-01-22T14:04:20.485056Z",
     "shell.execute_reply": "2022-01-22T14:04:20.484378Z",
     "shell.execute_reply.started": "2022-01-22T14:03:02.767299Z"
    },
    "papermill": {
     "duration": 0.02221,
     "end_time": "2022-01-22T14:04:20.485197",
     "exception": false,
     "start_time": "2022-01-22T14:04:20.462987",
     "status": "completed"
    },
    "tags": []
   },
   "outputs": [],
   "source": [
    "#checking if the apending works\n",
    "\n",
    "with open('Scrapper_file.csv','a+',newline='',encoding='UTF8') as f:\n",
    "        writer = csv.writer(f)\n",
    "        writer.writerow(data)"
   ]
  },
  {
   "cell_type": "markdown",
   "id": "c35c9424",
   "metadata": {
    "papermill": {
     "duration": 0.014536,
     "end_time": "2022-01-22T14:04:20.514745",
     "exception": false,
     "start_time": "2022-01-22T14:04:20.500209",
     "status": "completed"
    },
    "tags": []
   },
   "source": [
    "### **6. Automation**\n",
    "\n",
    "This function basically automates the entire process and keeps on updating the csv file on its on."
   ]
  },
  {
   "cell_type": "code",
   "execution_count": 13,
   "id": "eb781bcd",
   "metadata": {
    "execution": {
     "iopub.execute_input": "2022-01-22T14:04:20.554002Z",
     "iopub.status.busy": "2022-01-22T14:04:20.553150Z",
     "iopub.status.idle": "2022-01-22T14:04:20.555878Z",
     "shell.execute_reply": "2022-01-22T14:04:20.555323Z",
     "shell.execute_reply.started": "2022-01-22T14:03:02.777492Z"
    },
    "papermill": {
     "duration": 0.026479,
     "end_time": "2022-01-22T14:04:20.556025",
     "exception": false,
     "start_time": "2022-01-22T14:04:20.529546",
     "status": "completed"
    },
    "tags": []
   },
   "outputs": [],
   "source": [
    "#automating the process\n",
    "\n",
    "def automate():\n",
    "    url = 'https://www.amazon.in/PS4-God-of-War/dp/B07YQ73Y8T/ref=sr_1_2?keywords=ps4%2Bgame&qid=1642854585&sr=8-2'\n",
    "    header = {\"User-Agent\": \"Mozilla/5.0 (Macintosh; Intel Mac OS X 10_15_7) AppleWebKit/537.36 (KHTML, like Gecko) Chrome/97.0.4692.99 Safari/537.36\"}\n",
    "\n",
    "    page = requests.get(url, headers=header)\n",
    "\n",
    "    s1 = BeautifulSoup(page.content,'html.parser')\n",
    "    s2 = BeautifulSoup(s1.prettify(),'html.parser')\n",
    "\n",
    "    title = s2.find('span','a-size-large product-title-word-break').get_text()\n",
    "    price = s2.find('span', 'a-offscreen').get_text()\n",
    "    price = price.strip()[1:]\n",
    "    title = title.strip()\n",
    "    \n",
    "    import datetime\n",
    "    today = datetime.date.today()\n",
    "\n",
    "    import csv \n",
    "\n",
    "    h1 = ['Title','Price','Date']\n",
    "    data = [title,price,today]\n",
    "\n",
    "    with open('Scrapper_file.csv','a+',newline='',encoding='UTF8') as f:\n",
    "        writer = csv.writer(f)\n",
    "        writer.writerow(data)\n",
    "    #if (price < 900):\n",
    "     #   send_mail()\n",
    "\n",
    "\n",
    "\n",
    "    "
   ]
  },
  {
   "cell_type": "markdown",
   "id": "8b198938",
   "metadata": {
    "papermill": {
     "duration": 0.014492,
     "end_time": "2022-01-22T14:04:20.585633",
     "exception": false,
     "start_time": "2022-01-22T14:04:20.571141",
     "status": "completed"
    },
    "tags": []
   },
   "source": [
    "**Loop to keep the scrapper running**\n",
    "\n",
    "Here I have used just 1 second gap inorder to get the data and validate it fastly you can use any time interval but take note that the time is in seconds"
   ]
  },
  {
   "cell_type": "code",
   "execution_count": null,
   "id": "c60ceba6",
   "metadata": {},
   "outputs": [],
   "source": [
    "#loop that keeps the process running after a defined interval\n",
    "#note here time.sleep() is in seconds\n",
    "while(True):\n",
    "    automate()\n",
    "    time.sleep(1) #unit is seconds"
   ]
  },
  {
   "cell_type": "markdown",
   "id": "5cd49625",
   "metadata": {
    "papermill": {
     "duration": 0.014781,
     "end_time": "2022-01-22T14:04:20.651232",
     "exception": false,
     "start_time": "2022-01-22T14:04:20.636451",
     "status": "completed"
    },
    "tags": []
   },
   "source": [
    "**Send Mail to yourself**\n",
    "\n",
    "Challenge: Sometimes Google won't allow unauthorised app to access your mail so for the first time you will have to allow it manually after that it seems to work fine."
   ]
  },
  {
   "cell_type": "code",
   "execution_count": 15,
   "id": "387cb31a",
   "metadata": {
    "execution": {
     "iopub.execute_input": "2022-01-22T14:04:20.685144Z",
     "iopub.status.busy": "2022-01-22T14:04:20.684515Z",
     "iopub.status.idle": "2022-01-22T14:04:20.689103Z",
     "shell.execute_reply": "2022-01-22T14:04:20.689750Z",
     "shell.execute_reply.started": "2022-01-22T14:03:38.028215Z"
    },
    "papermill": {
     "duration": 0.023176,
     "end_time": "2022-01-22T14:04:20.689939",
     "exception": false,
     "start_time": "2022-01-22T14:04:20.666763",
     "status": "completed"
    },
    "tags": []
   },
   "outputs": [],
   "source": [
    "#sending a mail if the product gets available or there is a price drop\n",
    "\n",
    "def send_mail():\n",
    "    server = smtplib.SMTP_SSL('smtp.gmail.com',465)\n",
    "    server.ehlo()\n",
    "    #server.starttls()\n",
    "    server.ehlo()\n",
    "    server.login('enter email','@@@@@')\n",
    "    \n",
    "    subject = \"Price Drop Alert!\"\n",
    "    body = \"God of War-PS4 just dropped in price might want to have a look\"\n",
    "   \n",
    "    msg = f\"Subject: {subject}\\n\\n{body}\"\n",
    "    \n",
    "    server.sendmail(\n",
    "        'enter email',\n",
    "        msg\n",
    "     \n",
    "    )"
   ]
  }
 ],
 "metadata": {
  "kernelspec": {
   "display_name": "base",
   "language": "python",
   "name": "python3"
  },
  "language_info": {
   "codemirror_mode": {
    "name": "ipython",
    "version": 3
   },
   "file_extension": ".py",
   "mimetype": "text/x-python",
   "name": "python",
   "nbconvert_exporter": "python",
   "pygments_lexer": "ipython3",
   "version": "3.12.7"
  },
  "papermill": {
   "default_parameters": {},
   "duration": 14.294254,
   "end_time": "2022-01-22T14:04:21.345776",
   "environment_variables": {},
   "exception": null,
   "input_path": "__notebook__.ipynb",
   "output_path": "__notebook__.ipynb",
   "parameters": {},
   "start_time": "2022-01-22T14:04:07.051522",
   "version": "2.3.3"
  }
 },
 "nbformat": 4,
 "nbformat_minor": 5
}
